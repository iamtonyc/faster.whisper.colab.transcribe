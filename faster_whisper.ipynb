{
  "nbformat": 4,
  "nbformat_minor": 0,
  "metadata": {
    "colab": {
      "provenance": [],
      "gpuType": "T4"
    },
    "kernelspec": {
      "name": "python3",
      "display_name": "Python 3"
    },
    "language_info": {
      "name": "python"
    },
    "accelerator": "GPU"
  },
  "cells": [
    {
      "cell_type": "code",
      "execution_count": 1,
      "metadata": {
        "id": "D5UD_f-zqd38",
        "colab": {
          "base_uri": "https://localhost:8080/"
        },
        "outputId": "3e5af78f-9a7b-40f2-aa0e-ca7e1a196500"
      },
      "outputs": [
        {
          "output_type": "stream",
          "name": "stdout",
          "text": [
            "Reading package lists... Done\n",
            "Building dependency tree... Done\n",
            "Reading state information... Done\n",
            "The following additional packages will be installed:\n",
            "  libcublaslt11\n",
            "The following NEW packages will be installed:\n",
            "  libcublas11 libcublaslt11\n",
            "0 upgraded, 2 newly installed, 0 to remove and 45 not upgraded.\n",
            "Need to get 226 MB of archives.\n",
            "After this operation, 498 MB of additional disk space will be used.\n",
            "Get:1 http://archive.ubuntu.com/ubuntu jammy/multiverse amd64 libcublaslt11 amd64 11.7.4.6~11.5.1-1ubuntu1 [148 MB]\n",
            "Get:2 http://archive.ubuntu.com/ubuntu jammy/multiverse amd64 libcublas11 amd64 11.7.4.6~11.5.1-1ubuntu1 [78.2 MB]\n",
            "Fetched 226 MB in 20s (11.2 MB/s)\n",
            "Selecting previously unselected package libcublaslt11:amd64.\n",
            "(Reading database ... 121752 files and directories currently installed.)\n",
            "Preparing to unpack .../libcublaslt11_11.7.4.6~11.5.1-1ubuntu1_amd64.deb ...\n",
            "Unpacking libcublaslt11:amd64 (11.7.4.6~11.5.1-1ubuntu1) ...\n",
            "Selecting previously unselected package libcublas11:amd64.\n",
            "Preparing to unpack .../libcublas11_11.7.4.6~11.5.1-1ubuntu1_amd64.deb ...\n",
            "Unpacking libcublas11:amd64 (11.7.4.6~11.5.1-1ubuntu1) ...\n",
            "Setting up libcublaslt11:amd64 (11.7.4.6~11.5.1-1ubuntu1) ...\n",
            "Setting up libcublas11:amd64 (11.7.4.6~11.5.1-1ubuntu1) ...\n",
            "Processing triggers for libc-bin (2.35-0ubuntu3.4) ...\n",
            "/sbin/ldconfig.real: /usr/local/lib/libtbb.so.12 is not a symbolic link\n",
            "\n",
            "/sbin/ldconfig.real: /usr/local/lib/libtbbmalloc.so.2 is not a symbolic link\n",
            "\n",
            "/sbin/ldconfig.real: /usr/local/lib/libtbbbind_2_0.so.3 is not a symbolic link\n",
            "\n",
            "/sbin/ldconfig.real: /usr/local/lib/libtbbmalloc_proxy.so.2 is not a symbolic link\n",
            "\n",
            "/sbin/ldconfig.real: /usr/local/lib/libtbbbind.so.3 is not a symbolic link\n",
            "\n",
            "/sbin/ldconfig.real: /usr/local/lib/libtbbbind_2_5.so.3 is not a symbolic link\n",
            "\n"
          ]
        }
      ],
      "source": [
        "!apt install libcublas11"
      ]
    },
    {
      "cell_type": "code",
      "source": [
        "!pip install faster-whisper"
      ],
      "metadata": {
        "id": "g18HIfXu-UtK",
        "colab": {
          "base_uri": "https://localhost:8080/"
        },
        "outputId": "ad522141-48b8-47d2-ed4c-3286426c6de0"
      },
      "execution_count": 2,
      "outputs": [
        {
          "output_type": "stream",
          "name": "stdout",
          "text": [
            "Collecting faster-whisper\n",
            "  Downloading faster_whisper-1.0.1-py3-none-any.whl (1.5 MB)\n",
            "\u001b[2K     \u001b[90m━━━━━━━━━━━━━━━━━━━━━━━━━━━━━━━━━━━━━━━━\u001b[0m \u001b[32m1.5/1.5 MB\u001b[0m \u001b[31m1.1 MB/s\u001b[0m eta \u001b[36m0:00:00\u001b[0m\n",
            "\u001b[?25hCollecting av==11.* (from faster-whisper)\n",
            "  Downloading av-11.0.0-cp310-cp310-manylinux_2_17_x86_64.manylinux2014_x86_64.whl (32.9 MB)\n",
            "\u001b[2K     \u001b[90m━━━━━━━━━━━━━━━━━━━━━━━━━━━━━━━━━━━━━━━━\u001b[0m \u001b[32m32.9/32.9 MB\u001b[0m \u001b[31m1.6 MB/s\u001b[0m eta \u001b[36m0:00:00\u001b[0m\n",
            "\u001b[?25hCollecting ctranslate2<5,>=4.0 (from faster-whisper)\n",
            "  Downloading ctranslate2-4.1.0-cp310-cp310-manylinux_2_17_x86_64.manylinux2014_x86_64.whl (36.7 MB)\n",
            "\u001b[2K     \u001b[90m━━━━━━━━━━━━━━━━━━━━━━━━━━━━━━━━━━━━━━━━\u001b[0m \u001b[32m36.7/36.7 MB\u001b[0m \u001b[31m1.6 MB/s\u001b[0m eta \u001b[36m0:00:00\u001b[0m\n",
            "\u001b[?25hRequirement already satisfied: huggingface-hub>=0.13 in /usr/local/lib/python3.10/dist-packages (from faster-whisper) (0.20.3)\n",
            "Requirement already satisfied: tokenizers<0.16,>=0.13 in /usr/local/lib/python3.10/dist-packages (from faster-whisper) (0.15.2)\n",
            "Collecting onnxruntime<2,>=1.14 (from faster-whisper)\n",
            "  Downloading onnxruntime-1.17.3-cp310-cp310-manylinux_2_27_x86_64.manylinux_2_28_x86_64.whl (6.8 MB)\n",
            "\u001b[2K     \u001b[90m━━━━━━━━━━━━━━━━━━━━━━━━━━━━━━━━━━━━━━━━\u001b[0m \u001b[32m6.8/6.8 MB\u001b[0m \u001b[31m2.0 MB/s\u001b[0m eta \u001b[36m0:00:00\u001b[0m\n",
            "\u001b[?25hRequirement already satisfied: setuptools in /usr/local/lib/python3.10/dist-packages (from ctranslate2<5,>=4.0->faster-whisper) (67.7.2)\n",
            "Requirement already satisfied: numpy in /usr/local/lib/python3.10/dist-packages (from ctranslate2<5,>=4.0->faster-whisper) (1.25.2)\n",
            "Requirement already satisfied: pyyaml<7,>=5.3 in /usr/local/lib/python3.10/dist-packages (from ctranslate2<5,>=4.0->faster-whisper) (6.0.1)\n",
            "Requirement already satisfied: filelock in /usr/local/lib/python3.10/dist-packages (from huggingface-hub>=0.13->faster-whisper) (3.13.4)\n",
            "Requirement already satisfied: fsspec>=2023.5.0 in /usr/local/lib/python3.10/dist-packages (from huggingface-hub>=0.13->faster-whisper) (2023.6.0)\n",
            "Requirement already satisfied: requests in /usr/local/lib/python3.10/dist-packages (from huggingface-hub>=0.13->faster-whisper) (2.31.0)\n",
            "Requirement already satisfied: tqdm>=4.42.1 in /usr/local/lib/python3.10/dist-packages (from huggingface-hub>=0.13->faster-whisper) (4.66.2)\n",
            "Requirement already satisfied: typing-extensions>=3.7.4.3 in /usr/local/lib/python3.10/dist-packages (from huggingface-hub>=0.13->faster-whisper) (4.11.0)\n",
            "Requirement already satisfied: packaging>=20.9 in /usr/local/lib/python3.10/dist-packages (from huggingface-hub>=0.13->faster-whisper) (24.0)\n",
            "Collecting coloredlogs (from onnxruntime<2,>=1.14->faster-whisper)\n",
            "  Downloading coloredlogs-15.0.1-py2.py3-none-any.whl (46 kB)\n",
            "\u001b[2K     \u001b[90m━━━━━━━━━━━━━━━━━━━━━━━━━━━━━━━━━━━━━━━━\u001b[0m \u001b[32m46.0/46.0 kB\u001b[0m \u001b[31m2.0 MB/s\u001b[0m eta \u001b[36m0:00:00\u001b[0m\n",
            "\u001b[?25hRequirement already satisfied: flatbuffers in /usr/local/lib/python3.10/dist-packages (from onnxruntime<2,>=1.14->faster-whisper) (24.3.25)\n",
            "Requirement already satisfied: protobuf in /usr/local/lib/python3.10/dist-packages (from onnxruntime<2,>=1.14->faster-whisper) (3.20.3)\n",
            "Requirement already satisfied: sympy in /usr/local/lib/python3.10/dist-packages (from onnxruntime<2,>=1.14->faster-whisper) (1.12)\n",
            "Collecting humanfriendly>=9.1 (from coloredlogs->onnxruntime<2,>=1.14->faster-whisper)\n",
            "  Downloading humanfriendly-10.0-py2.py3-none-any.whl (86 kB)\n",
            "\u001b[2K     \u001b[90m━━━━━━━━━━━━━━━━━━━━━━━━━━━━━━━━━━━━━━━━\u001b[0m \u001b[32m86.8/86.8 kB\u001b[0m \u001b[31m1.8 MB/s\u001b[0m eta \u001b[36m0:00:00\u001b[0m\n",
            "\u001b[?25hRequirement already satisfied: charset-normalizer<4,>=2 in /usr/local/lib/python3.10/dist-packages (from requests->huggingface-hub>=0.13->faster-whisper) (3.3.2)\n",
            "Requirement already satisfied: idna<4,>=2.5 in /usr/local/lib/python3.10/dist-packages (from requests->huggingface-hub>=0.13->faster-whisper) (3.7)\n",
            "Requirement already satisfied: urllib3<3,>=1.21.1 in /usr/local/lib/python3.10/dist-packages (from requests->huggingface-hub>=0.13->faster-whisper) (2.0.7)\n",
            "Requirement already satisfied: certifi>=2017.4.17 in /usr/local/lib/python3.10/dist-packages (from requests->huggingface-hub>=0.13->faster-whisper) (2024.2.2)\n",
            "Requirement already satisfied: mpmath>=0.19 in /usr/local/lib/python3.10/dist-packages (from sympy->onnxruntime<2,>=1.14->faster-whisper) (1.3.0)\n",
            "Installing collected packages: humanfriendly, ctranslate2, av, coloredlogs, onnxruntime, faster-whisper\n",
            "Successfully installed av-11.0.0 coloredlogs-15.0.1 ctranslate2-4.1.0 faster-whisper-1.0.1 humanfriendly-10.0 onnxruntime-1.17.3\n"
          ]
        }
      ]
    },
    {
      "cell_type": "code",
      "source": [
        "from faster_whisper import WhisperModel\n",
        "import os\n",
        "from google.colab import files\n",
        "\n",
        "model_size = \"large-v2\" # tiny, base, small, medium, large, large-v2, large-v3\n",
        "mode = \"normal\" # normal 一般, timeline 加入時間軸, subtitle 產生成字幕檔格式\n",
        "\n",
        "# Run on GPU with FP16\n",
        "model = WhisperModel(model_size, device=\"cuda\", compute_type=\"float16\")\n",
        "\n",
        "# 設定檔案路徑\n",
        "#audio_path = \"/content/short.m4a\" # 替換成你的檔案名稱\n",
        "audio_path = \"short.m4a\" # 替換成你的檔案名稱\n",
        "\n",
        "segments, info = model.transcribe(audio_path, beam_size=5, initial_prompt=\"繁體\")\n",
        "\n",
        "transcription = \"\"\n",
        "\n",
        "# 1 以下為一般版本\n",
        "if mode == \"normal\":\n",
        "  transcription_segments = [segment.text for segment in segments]\n",
        "  transcription = \"，\".join(transcription_segments)\n",
        "\n",
        "# 2 以下為加入時間軸版本\n",
        "elif mode == \"timeline\":\n",
        "  for segment in segments:\n",
        "    transcription += \"[%.2fs -> %.2fs] %s\\n\" % (segment.start, segment.end, segment.text)\n",
        "\n",
        "# 3 以下為產生字幕檔的版本\n",
        "elif mode == \"subtitle\":\n",
        "  for i, segment in enumerate(segments, 1):\n",
        "    start_hours, start_remainder = divmod(segment.start, 3600)\n",
        "    start_minutes, start_seconds = divmod(start_remainder, 60)\n",
        "    end_hours, end_remainder = divmod(segment.end, 3600)\n",
        "    end_minutes, end_seconds = divmod(end_remainder, 60)\n",
        "    transcription += \"%d\\n%02d:%02d:%06.3f --> %02d:%02d:%06.3f\\n%s\\n\\n\" % (\n",
        "      i,\n",
        "      start_hours, start_minutes, start_seconds,\n",
        "      end_hours, end_minutes, end_seconds,\n",
        "      segment.text\n",
        "    )\n",
        "\n",
        "print(transcription)\n",
        "\n",
        "# 獲取不帶副檔名的檔案名稱\n",
        "file_name = os.path.splitext(os.path.basename(audio_path))[0]\n",
        "\n",
        "# 將結果保存為txt檔案\n",
        "with open(f\"{file_name}.txt\", \"w\") as file:\n",
        "  file.write(transcription)\n",
        "  files.download(f\"{file_name}.txt\")"
      ],
      "metadata": {
        "id": "u9nsB7M_ukVC",
        "colab": {
          "base_uri": "https://localhost:8080/",
          "height": 54
        },
        "outputId": "5e77e125-4b79-423f-da31-db40f5967b1e"
      },
      "execution_count": 4,
      "outputs": [
        {
          "output_type": "stream",
          "name": "stdout",
          "text": [
            "大家好, 我是Lion哥，今日又同大家講下鄧成波家族嘅近況，早幾個月前其實全部都有講，即係話鄧成波家族佢哋諗住舉手投降，反正都係資不抵債，早啲破產就早啲四年後一條好漢，但可惜就算你自己肯破產，銀行都未必畀你破產，原因係你一破產，所有問題就交比破產官銀行嘅話事權少咗好多，同埋亦都係影響唔到個售價，咁一陣間我同大家傾一傾，呢個破產官嘅運作同埋銀行反對，究竟係有冇理由呢，喺未開始之前，如果大家未訂閱嘅請幫手訂閱，請讚好及分享比朋友，如果有時間嘅話請幫手睇哂啲廣告去，多謝大家嘅支持，之前就有周刊報導，話鄧成波嘅家族成員，準備三月可以有個重大決定，個決定就係咩，公司嘅清盤人就破產，咁到而家四月份都過咗一半，都未見佢哋有任何嘅破產或者清盤嘅消息，咁個原因就係咩呢，原來有主要嘅銀行，就唔想佢哋做呢個破產或者清盤，個原因就係一做咗呢個破產同清盤，嗰個主動權就會去到呢個清盤官嗰度，即係清盤官要完成你個清盤工作，一定係點將個價錢又咁低就咁到咁低，同埋就算你賣咗嗰啲物業嘅錢，啲錢點樣分配都係要由個清盤官話事，仲有個清盤嘅費用，通常呢啲咁嘅公司清盤，或者個人清盤去咁大資產嘅呢，通常都搵Big 4，咁如果Big 4嗰個價錢一定收貴，我舉一個例，當年呢個白富勤清盤嘅時候，做咗半年，你知唔知Price Waterhouse標準單出係幾多，八千幾萬，所以波叔呢度呢，表面應該仲有二三百億嘅資產，咁如果係用咗二三百億嘅資產，你覺得監會嘅銷量會收去幾多錢呢，我覺得起碼都幾百萬架啦，但係個問題呢，波叔啲嘢好散呀，佢唔係話一間公司揸咗咁多嘢去，好多公司啦，而且有一啲業權呢就唔係話一棟都去喎，佢係一部分，所以亦都增加咗呢個清盤人嘅工作，咁如果咁嘅時間一拖落去呢，時間越長呢，真係個費用就越貴，白福勤清盤嗰時，Price Waterhouse做半年，要收去交八千幾萬呢，就係呢個原因，咁波叔呢度呢，我話幾百萬呢其實係最少，咁我懷疑呢如果佢啲嘢咁複雜呢，有機會呢就一二千萬都要畀出嚟，仲有喎個清盤官個費用呢，同埋呢個清盤嘅工作費用呢，亦都係先扣咗啲錢先，即係先畀咗佢哋先，先再分畀嗰啲債主，所以其實啲債主一去到清盤程序呢，一定係攞得少，咁係咪未經銀行同意之下，波仔佢哋係唔可以破產或清盤呢，就唔係喎，如果大家好記性嘅呢，其實呢幾年呢，波叔家族佢哋裡面呢，都有畀人哋告喎，咁呢啲告嘅當然係民事官司，因為佢哋嗰時係擔保咗貸款，咁啲民事官司總有一日呢，就排到上庭㗎，咁咪上庭㗎嘛，咁咪追債囉，首先要攞到個judgment，即係真係你欠佢咁多錢先，佢冇還畀你㗎嘛，咁個judgment攞咗之後，呢啲咁嘅財務公司又好，或者呢啲咁嘅佢個朋友公司嘅債主，就會行呢個清盤行動㗎啦，所以其實你銀行唔畀佢清盤呢，或者破產都冇用呀，佢啲熟朋友呢，都唔使條數大，其實幾十萬已經可以叫佢哋破產，佢係還唔到咗破產㗎啦，即係一路做一個破產程序囉，咁其實如果係咁做呢，如果波仔佢哋合作嘅呢，其實三四年到呢就可以行到一個破產㗎，咁其實佢好多已經係兩年幾前告佢㗎啦，咁其實等多兩年呢，佢哋就可以做呢個破產行動，即係你銀行唔同意都冇辦法，只要波仔佢哋一破產呢，咁其實啲公司呢就全部都係要做呢個清盤㗎啦，所以到時銀行呢就大大鑊就企曬到㗎啦，所以你見波叔佢哋啲鋪點沽法，四折照沽，六折又沽，經常都係腰斬即係五折就沽㗎啦，所以你見而家啲投資者亦都係一樣啦，同你哋傾咗點呀，都要睇住你幾時賣入價呢，起碼腰斬就同你傾嘅，大家記住係佢當年嘅賣入價，譬如佢10年嗰陣嘅舖市唔係最高峰，我同你講過15至18年嗰陣係最高峰，佢又唔係同你用呢個最高峰腰斬嚟計，佢可能同你10年，或者係09年呢啲咁嘅價錢呢，就再平一半呢就同你折貨，我哋睇返波叔家族近半年呢，佢沽嘅舖嘅速度，同埋佢嘅深度，即係蝕幾多 沽得幾狠，最近4月已經有兩單，都未行咗大半個月，最近呢單成咗3250萬，沽咗嘉年威老道嘅地舖，持貨14年就蝕咗2418萬，即係蝕咗四成幾，跟住前幾日嗰單，沽咗樂陀七個地廠，只係1.5億，持貨14年就蝕咗六成，到1月就沽咗呢個，深水埗商住樓，就8550萬，咁又係蝕四成，大家見唔見11月第一單新聞，呢個鄧成波家族，減價2億求售樂陀七個地舖，最後大家都知道，蝕咗幾多錢出嚟，蝕咗1.5億，即係你話2億其實做唔到，只係1.5億蝕得到，到11月就用呢個，9868萬就沽咗呢個，利源山道嗰個舖，咁就蝕咗53%，跟住就用呢個1.8億，就沽咗呢個，荃灣全景花園，部份商場同埋車位，睇下近半年，太早嗰啲我哋就唔講，淨係近半年都沽咗咁多，全部都係一係就輸六成，一係就輸五成，四成都經常見，我以上講個例子，只係畀大家聽，曾經建佈嗰啲成交，先至同大家講咗，佢冇建佈成交，其實我同大家講唔到，所以我相信，沽嘅舖就唔止係咁少，因為有好多舖，啲報紙未必會報到，俗語仲話，你有張糧計我有個長梯，究竟係咪銀行，唔畀你破產，你哋就破唔到產呢，其實都唔係，因為以波仔佢哋嘅處境，就越早破產就越好，因為早啲就恢復返個自由身，四年後，咁如果佢哋早啲恢復，佢哋仲可以用返，而家手頭上嘅資本，東山再起，我相信因為佢哋，呢個財困係搞咁年，一定有啲錢就收埋咗，最大可能就已經調咗出海外，等佢哋四年破完產，跟住恢復返自由身之後，佢哋就可以用返海外啲資產，東山再起，而家銀行又唔畀你破產，咁有咩方法可以加速破產呢，有幾招，第一招就係搵啲朋友告你，因為你可能真係借啲朋友錢，如果波仔佢哋又合作唔抗辯，咁其實呢，呢個破產程序好快，可能三四年已經行到，呢個係第一條橋，第二條橋就好多酒樓老闆用，點樣用呢，就係特登唔出糧，唔使特登，因為你酒樓都係蝕，最緊要你冇薪資金落去，就糧都出唔到，咁你唔出糧果時，邊個告你，勞工處告你，即係政府動手，咁政府動手，你就可以早啲破產，所以今次銀行唔畀佢咁早破產，只係阻得佢一時，就阻唔到佢一世，因為其實好坦白講，大家都知道，而家佢咁樣估貨法，樣樣輸一半，一定係資不抵債，究竟資不抵債嘅時候，不如斬咩係波仔嘅立場呢，就早破早盡，我諗最正路行，突然間你哋有一日聽到，佢朋友告佢，上埋法庭，亦都攞咗個判決，咁佢朋友間公司，又可以攞咗呢個判決，直接行呢個，令到佢哋話波仔破產，冇㗎喇，波仔個case入面，其實邊個最大輸家呢，當然佢哋嘅家族輸咗多，曾經好輝煌，有幾百億資產，大家輸曬，另一個輸家，有一個中字背景銀行，係波叔佢哋嘅，最大銀行，輸得緊要，有間東字背景，亦都會輸得幾多下，即係一個中字，一個東字，大家自己估係邊兩間，今日update波仔嘅情況，畀大家聽，時間就夠，多謝大家收聽，同收睇先，拜拜，2，2，2，2，2，2，2，2，2，2，2，2，2，2，喜歡我的影片請訂閱或按讚\n"
          ]
        },
        {
          "output_type": "display_data",
          "data": {
            "text/plain": [
              "<IPython.core.display.Javascript object>"
            ],
            "application/javascript": [
              "\n",
              "    async function download(id, filename, size) {\n",
              "      if (!google.colab.kernel.accessAllowed) {\n",
              "        return;\n",
              "      }\n",
              "      const div = document.createElement('div');\n",
              "      const label = document.createElement('label');\n",
              "      label.textContent = `Downloading \"${filename}\": `;\n",
              "      div.appendChild(label);\n",
              "      const progress = document.createElement('progress');\n",
              "      progress.max = size;\n",
              "      div.appendChild(progress);\n",
              "      document.body.appendChild(div);\n",
              "\n",
              "      const buffers = [];\n",
              "      let downloaded = 0;\n",
              "\n",
              "      const channel = await google.colab.kernel.comms.open(id);\n",
              "      // Send a message to notify the kernel that we're ready.\n",
              "      channel.send({})\n",
              "\n",
              "      for await (const message of channel.messages) {\n",
              "        // Send a message to notify the kernel that we're ready.\n",
              "        channel.send({})\n",
              "        if (message.buffers) {\n",
              "          for (const buffer of message.buffers) {\n",
              "            buffers.push(buffer);\n",
              "            downloaded += buffer.byteLength;\n",
              "            progress.value = downloaded;\n",
              "          }\n",
              "        }\n",
              "      }\n",
              "      const blob = new Blob(buffers, {type: 'application/binary'});\n",
              "      const a = document.createElement('a');\n",
              "      a.href = window.URL.createObjectURL(blob);\n",
              "      a.download = filename;\n",
              "      div.appendChild(a);\n",
              "      a.click();\n",
              "      div.remove();\n",
              "    }\n",
              "  "
            ]
          },
          "metadata": {}
        },
        {
          "output_type": "display_data",
          "data": {
            "text/plain": [
              "<IPython.core.display.Javascript object>"
            ],
            "application/javascript": [
              "download(\"download_0fbf43a8-8fea-4c49-a3e8-a4da8024fe81\", \"short.txt\", 0)"
            ]
          },
          "metadata": {}
        }
      ]
    }
  ]
}